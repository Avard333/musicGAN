{
  "nbformat": 4,
  "nbformat_minor": 0,
  "metadata": {
    "colab": {
      "name": "musicGAN.ipynb",
      "provenance": []
    },
    "kernelspec": {
      "name": "python3",
      "display_name": "Python 3"
    },
    "language_info": {
      "name": "python"
    }
  },
  "cells": [
    {
      "cell_type": "code",
      "metadata": {
        "colab": {
          "base_uri": "https://localhost:8080/"
        },
        "id": "0sPPOyG0aKy_",
        "outputId": "c8ff274e-9524-4e55-f231-54036266ba2d"
      },
      "source": [
        "from google.colab import drive\n",
        "drive.mount('/content/drive')"
      ],
      "execution_count": null,
      "outputs": [
        {
          "output_type": "stream",
          "name": "stdout",
          "text": [
            "Mounted at /content/drive\n"
          ]
        }
      ]
    },
    {
      "cell_type": "code",
      "metadata": {
        "colab": {
          "base_uri": "https://localhost:8080/"
        },
        "id": "at9Tbd6AodCk",
        "outputId": "bfe14901-3016-46c6-b19f-3df1fac0e3ed"
      },
      "source": [
        "!pip install tensorflow-io"
      ],
      "execution_count": null,
      "outputs": [
        {
          "output_type": "stream",
          "name": "stdout",
          "text": [
            "Collecting tensorflow-io\n",
            "  Downloading tensorflow_io-0.21.0-cp37-cp37m-manylinux_2_12_x86_64.manylinux2010_x86_64.whl (22.7 MB)\n",
            "\u001b[K     |████████████████████████████████| 22.7 MB 4.6 MB/s \n",
            "\u001b[?25hCollecting tensorflow-io-gcs-filesystem==0.21.0\n",
            "  Downloading tensorflow_io_gcs_filesystem-0.21.0-cp37-cp37m-manylinux_2_12_x86_64.manylinux2010_x86_64.whl (2.1 MB)\n",
            "\u001b[K     |████████████████████████████████| 2.1 MB 33.6 MB/s \n",
            "\u001b[?25hRequirement already satisfied: tensorflow<2.7.0,>=2.6.0 in /usr/local/lib/python3.7/dist-packages (from tensorflow-io) (2.6.0)\n",
            "Requirement already satisfied: wrapt~=1.12.1 in /usr/local/lib/python3.7/dist-packages (from tensorflow<2.7.0,>=2.6.0->tensorflow-io) (1.12.1)\n",
            "Requirement already satisfied: astunparse~=1.6.3 in /usr/local/lib/python3.7/dist-packages (from tensorflow<2.7.0,>=2.6.0->tensorflow-io) (1.6.3)\n",
            "Requirement already satisfied: protobuf>=3.9.2 in /usr/local/lib/python3.7/dist-packages (from tensorflow<2.7.0,>=2.6.0->tensorflow-io) (3.17.3)\n",
            "Requirement already satisfied: keras-preprocessing~=1.1.2 in /usr/local/lib/python3.7/dist-packages (from tensorflow<2.7.0,>=2.6.0->tensorflow-io) (1.1.2)\n",
            "Requirement already satisfied: flatbuffers~=1.12.0 in /usr/local/lib/python3.7/dist-packages (from tensorflow<2.7.0,>=2.6.0->tensorflow-io) (1.12)\n",
            "Requirement already satisfied: clang~=5.0 in /usr/local/lib/python3.7/dist-packages (from tensorflow<2.7.0,>=2.6.0->tensorflow-io) (5.0)\n",
            "Requirement already satisfied: six~=1.15.0 in /usr/local/lib/python3.7/dist-packages (from tensorflow<2.7.0,>=2.6.0->tensorflow-io) (1.15.0)\n",
            "Requirement already satisfied: numpy~=1.19.2 in /usr/local/lib/python3.7/dist-packages (from tensorflow<2.7.0,>=2.6.0->tensorflow-io) (1.19.5)\n",
            "Requirement already satisfied: tensorflow-estimator~=2.6 in /usr/local/lib/python3.7/dist-packages (from tensorflow<2.7.0,>=2.6.0->tensorflow-io) (2.6.0)\n",
            "Requirement already satisfied: typing-extensions~=3.7.4 in /usr/local/lib/python3.7/dist-packages (from tensorflow<2.7.0,>=2.6.0->tensorflow-io) (3.7.4.3)\n",
            "Requirement already satisfied: termcolor~=1.1.0 in /usr/local/lib/python3.7/dist-packages (from tensorflow<2.7.0,>=2.6.0->tensorflow-io) (1.1.0)\n",
            "Requirement already satisfied: grpcio<2.0,>=1.37.0 in /usr/local/lib/python3.7/dist-packages (from tensorflow<2.7.0,>=2.6.0->tensorflow-io) (1.39.0)\n",
            "Requirement already satisfied: opt-einsum~=3.3.0 in /usr/local/lib/python3.7/dist-packages (from tensorflow<2.7.0,>=2.6.0->tensorflow-io) (3.3.0)\n",
            "Requirement already satisfied: absl-py~=0.10 in /usr/local/lib/python3.7/dist-packages (from tensorflow<2.7.0,>=2.6.0->tensorflow-io) (0.12.0)\n",
            "Requirement already satisfied: gast==0.4.0 in /usr/local/lib/python3.7/dist-packages (from tensorflow<2.7.0,>=2.6.0->tensorflow-io) (0.4.0)\n",
            "Requirement already satisfied: tensorboard~=2.6 in /usr/local/lib/python3.7/dist-packages (from tensorflow<2.7.0,>=2.6.0->tensorflow-io) (2.6.0)\n",
            "Requirement already satisfied: h5py~=3.1.0 in /usr/local/lib/python3.7/dist-packages (from tensorflow<2.7.0,>=2.6.0->tensorflow-io) (3.1.0)\n",
            "Requirement already satisfied: wheel~=0.35 in /usr/local/lib/python3.7/dist-packages (from tensorflow<2.7.0,>=2.6.0->tensorflow-io) (0.37.0)\n",
            "Requirement already satisfied: google-pasta~=0.2 in /usr/local/lib/python3.7/dist-packages (from tensorflow<2.7.0,>=2.6.0->tensorflow-io) (0.2.0)\n",
            "Requirement already satisfied: keras~=2.6 in /usr/local/lib/python3.7/dist-packages (from tensorflow<2.7.0,>=2.6.0->tensorflow-io) (2.6.0)\n",
            "Requirement already satisfied: cached-property in /usr/local/lib/python3.7/dist-packages (from h5py~=3.1.0->tensorflow<2.7.0,>=2.6.0->tensorflow-io) (1.5.2)\n",
            "Requirement already satisfied: markdown>=2.6.8 in /usr/local/lib/python3.7/dist-packages (from tensorboard~=2.6->tensorflow<2.7.0,>=2.6.0->tensorflow-io) (3.3.4)\n",
            "Requirement already satisfied: google-auth<2,>=1.6.3 in /usr/local/lib/python3.7/dist-packages (from tensorboard~=2.6->tensorflow<2.7.0,>=2.6.0->tensorflow-io) (1.34.0)\n",
            "Requirement already satisfied: setuptools>=41.0.0 in /usr/local/lib/python3.7/dist-packages (from tensorboard~=2.6->tensorflow<2.7.0,>=2.6.0->tensorflow-io) (57.4.0)\n",
            "Requirement already satisfied: tensorboard-plugin-wit>=1.6.0 in /usr/local/lib/python3.7/dist-packages (from tensorboard~=2.6->tensorflow<2.7.0,>=2.6.0->tensorflow-io) (1.8.0)\n",
            "Requirement already satisfied: werkzeug>=0.11.15 in /usr/local/lib/python3.7/dist-packages (from tensorboard~=2.6->tensorflow<2.7.0,>=2.6.0->tensorflow-io) (1.0.1)\n",
            "Requirement already satisfied: google-auth-oauthlib<0.5,>=0.4.1 in /usr/local/lib/python3.7/dist-packages (from tensorboard~=2.6->tensorflow<2.7.0,>=2.6.0->tensorflow-io) (0.4.5)\n",
            "Requirement already satisfied: requests<3,>=2.21.0 in /usr/local/lib/python3.7/dist-packages (from tensorboard~=2.6->tensorflow<2.7.0,>=2.6.0->tensorflow-io) (2.23.0)\n",
            "Requirement already satisfied: tensorboard-data-server<0.7.0,>=0.6.0 in /usr/local/lib/python3.7/dist-packages (from tensorboard~=2.6->tensorflow<2.7.0,>=2.6.0->tensorflow-io) (0.6.1)\n",
            "Requirement already satisfied: cachetools<5.0,>=2.0.0 in /usr/local/lib/python3.7/dist-packages (from google-auth<2,>=1.6.3->tensorboard~=2.6->tensorflow<2.7.0,>=2.6.0->tensorflow-io) (4.2.2)\n",
            "Requirement already satisfied: rsa<5,>=3.1.4 in /usr/local/lib/python3.7/dist-packages (from google-auth<2,>=1.6.3->tensorboard~=2.6->tensorflow<2.7.0,>=2.6.0->tensorflow-io) (4.7.2)\n",
            "Requirement already satisfied: pyasn1-modules>=0.2.1 in /usr/local/lib/python3.7/dist-packages (from google-auth<2,>=1.6.3->tensorboard~=2.6->tensorflow<2.7.0,>=2.6.0->tensorflow-io) (0.2.8)\n",
            "Requirement already satisfied: requests-oauthlib>=0.7.0 in /usr/local/lib/python3.7/dist-packages (from google-auth-oauthlib<0.5,>=0.4.1->tensorboard~=2.6->tensorflow<2.7.0,>=2.6.0->tensorflow-io) (1.3.0)\n",
            "Requirement already satisfied: importlib-metadata in /usr/local/lib/python3.7/dist-packages (from markdown>=2.6.8->tensorboard~=2.6->tensorflow<2.7.0,>=2.6.0->tensorflow-io) (4.6.4)\n",
            "Requirement already satisfied: pyasn1<0.5.0,>=0.4.6 in /usr/local/lib/python3.7/dist-packages (from pyasn1-modules>=0.2.1->google-auth<2,>=1.6.3->tensorboard~=2.6->tensorflow<2.7.0,>=2.6.0->tensorflow-io) (0.4.8)\n",
            "Requirement already satisfied: idna<3,>=2.5 in /usr/local/lib/python3.7/dist-packages (from requests<3,>=2.21.0->tensorboard~=2.6->tensorflow<2.7.0,>=2.6.0->tensorflow-io) (2.10)\n",
            "Requirement already satisfied: chardet<4,>=3.0.2 in /usr/local/lib/python3.7/dist-packages (from requests<3,>=2.21.0->tensorboard~=2.6->tensorflow<2.7.0,>=2.6.0->tensorflow-io) (3.0.4)\n",
            "Requirement already satisfied: certifi>=2017.4.17 in /usr/local/lib/python3.7/dist-packages (from requests<3,>=2.21.0->tensorboard~=2.6->tensorflow<2.7.0,>=2.6.0->tensorflow-io) (2021.5.30)\n",
            "Requirement already satisfied: urllib3!=1.25.0,!=1.25.1,<1.26,>=1.21.1 in /usr/local/lib/python3.7/dist-packages (from requests<3,>=2.21.0->tensorboard~=2.6->tensorflow<2.7.0,>=2.6.0->tensorflow-io) (1.24.3)\n",
            "Requirement already satisfied: oauthlib>=3.0.0 in /usr/local/lib/python3.7/dist-packages (from requests-oauthlib>=0.7.0->google-auth-oauthlib<0.5,>=0.4.1->tensorboard~=2.6->tensorflow<2.7.0,>=2.6.0->tensorflow-io) (3.1.1)\n",
            "Requirement already satisfied: zipp>=0.5 in /usr/local/lib/python3.7/dist-packages (from importlib-metadata->markdown>=2.6.8->tensorboard~=2.6->tensorflow<2.7.0,>=2.6.0->tensorflow-io) (3.5.0)\n",
            "Installing collected packages: tensorflow-io-gcs-filesystem, tensorflow-io\n",
            "Successfully installed tensorflow-io-0.21.0 tensorflow-io-gcs-filesystem-0.21.0\n"
          ]
        }
      ]
    },
    {
      "cell_type": "code",
      "metadata": {
        "colab": {
          "base_uri": "https://localhost:8080/"
        },
        "id": "WdafbOqjCthX",
        "outputId": "dd6a7a51-e817-4ab8-af19-515e0bd917ca"
      },
      "source": [
        "!pip install pydub\n",
        "!apt-get install ffmpeg\n"
      ],
      "execution_count": null,
      "outputs": [
        {
          "output_type": "stream",
          "name": "stdout",
          "text": [
            "Collecting pydub\n",
            "  Downloading pydub-0.25.1-py2.py3-none-any.whl (32 kB)\n",
            "Installing collected packages: pydub\n",
            "Successfully installed pydub-0.25.1\n",
            "Reading package lists... Done\n",
            "Building dependency tree       \n",
            "Reading state information... Done\n",
            "ffmpeg is already the newest version (7:3.4.8-0ubuntu0.2).\n",
            "0 upgraded, 0 newly installed, 0 to remove and 40 not upgraded.\n"
          ]
        }
      ]
    },
    {
      "cell_type": "code",
      "metadata": {
        "id": "_GYP3eA0CXcu"
      },
      "source": [
        "from os import path\n",
        "from pydub import AudioSegment\n",
        "\n",
        "def convert_mp3_to_wav(src, dst):\n",
        "                                                                                \n",
        "  sound = AudioSegment.from_file(src)\n",
        "  sound = sound.set_channels(1)\n",
        "  sound.export(dst, format=\"wav\")"
      ],
      "execution_count": null,
      "outputs": []
    },
    {
      "cell_type": "code",
      "metadata": {
        "id": "VsaX38NxC8cz"
      },
      "source": [
        "def mono_to_stereo(src, dst):\n",
        "  sound = AudioSegment.from_wav(src)\n",
        "  sound = sound.set_channels(1)\n",
        "  sound.export(\"dst\", format=\"wav\")"
      ],
      "execution_count": null,
      "outputs": []
    },
    {
      "cell_type": "code",
      "metadata": {
        "id": "EFa88tixDzWH"
      },
      "source": [
        "convert_mp3_to_wav(\"/content/drive/MyDrive/musicGAN/music_raw/Untitled - 9:10:21, 8.28 PM.mp3\", \"/content/drive/MyDrive/musicGAN/music/1.wav\" )"
      ],
      "execution_count": null,
      "outputs": []
    },
    {
      "cell_type": "code",
      "metadata": {
        "colab": {
          "base_uri": "https://localhost:8080/"
        },
        "id": "67oiBV87aRLh",
        "outputId": "680b9a6c-755f-4c23-fea9-b661e01be946"
      },
      "source": [
        "MUSIC_PATH = \"/content/drive/MyDrive/musicGAN/music\"\n",
        "\n",
        "import tensorflow as tf\n",
        "import tensorflow_io as tfio\n",
        "\n",
        "audio = tfio.audio.AudioIOTensor('/content/drive/MyDrive/musicGAN/music/1.wav')\n",
        "\n",
        "print(audio)"
      ],
      "execution_count": null,
      "outputs": [
        {
          "output_type": "stream",
          "name": "stdout",
          "text": [
            "<AudioIOTensor: shape=[1968768       1], dtype=<dtype: 'int16'>, rate=44100>\n"
          ]
        }
      ]
    },
    {
      "cell_type": "code",
      "metadata": {
        "colab": {
          "base_uri": "https://localhost:8080/"
        },
        "id": "3gNOwkaipW0W",
        "outputId": "544cb778-073c-4e12-c067-ea48732e14bf"
      },
      "source": [
        "audio_slice = audio[:]\n",
        "# remove last dimension\n",
        "audio_tensor = tf.squeeze(audio_slice, axis=[-1])\n",
        "print(audio_tensor)"
      ],
      "execution_count": null,
      "outputs": [
        {
          "output_type": "stream",
          "name": "stdout",
          "text": [
            "tf.Tensor([0 0 0 ... 0 0 0], shape=(1968768,), dtype=int16)\n"
          ]
        }
      ]
    },
    {
      "cell_type": "code",
      "metadata": {
        "colab": {
          "base_uri": "https://localhost:8080/",
          "height": 75
        },
        "id": "lXZMPujYo4jm",
        "outputId": "608ebfe2-8a15-4795-8c49-0b91d657bf3a"
      },
      "source": [
        "from IPython.display import Audio\n",
        "\n",
        "Audio(audio_tensor.numpy(), rate=audio.rate.numpy())"
      ],
      "execution_count": null,
      "outputs": [
        {
          "output_type": "execute_result",
          "data": {
            "text/html": [
              "\n",
              "                <audio controls=\"controls\" >\n",
              "                    <source src=\"data:audio/wav;base64,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\" type=\"audio/wav\" />\n",
              "                    Your browser does not support the audio element.\n",
              "                </audio>\n",
              "              "
            ],
            "text/plain": [
              "<IPython.lib.display.Audio object>"
            ]
          },
          "metadata": {},
          "execution_count": 41
        }
      ]
    },
    {
      "cell_type": "code",
      "metadata": {
        "colab": {
          "base_uri": "https://localhost:8080/",
          "height": 293
        },
        "id": "IJ_XpI9ookQV",
        "outputId": "530f7edf-1b48-4c9e-83c7-ccd52d486a92"
      },
      "source": [
        "import matplotlib.pyplot as plt\n",
        "\n",
        "\n",
        "tensor = tf.cast(audio_tensor, tf.float32) / 32768.0\n",
        "\n",
        "plt.figure()\n",
        "plt.plot(tensor.numpy())"
      ],
      "execution_count": null,
      "outputs": [
        {
          "output_type": "execute_result",
          "data": {
            "text/plain": [
              "[<matplotlib.lines.Line2D at 0x7fcf1e8b7a90>]"
            ]
          },
          "metadata": {},
          "execution_count": 45
        },
        {
          "output_type": "display_data",
          "data": {
            "image/png": "[encoded data removed]",
            "text/plain": [
              "<Figure size 432x288 with 1 Axes>"
            ]
          },
          "metadata": {
            "needs_background": "light"
          }
        }
      ]
    },
    {
      "cell_type": "code",
      "metadata": {
        "id": "3QqAhy5zWjHJ"
      },
      "source": [
        "import tensorflow as tf\n",
        "\n",
        "def generator(z):\n",
        "    generator = tf.keras.models.Sequential()\n",
        "\n",
        "    generator.add(tf.layers.Dense(z, use_bias=False, input_shape=1*16*1024))\n",
        "    generator.add(tf.layers.BatchNormalization())\n",
        "    generator.add(tf.layers.LeakyReLU())\n",
        "\n",
        "    generator.add(tf.layers.Reshape((None, 16, 1024)))\n",
        "    assert generator.output_shape == (None, 16, 1024)\n",
        "\n",
        "    # generator.add(layers.Conv1DTranspose(filters=256, kernel_size=25, padding='same', use_bias=False))\n",
        "    # assert generator.output_shape == (None, 16, 1024)\n",
        "    # generator.add(layers.BatchNormalization())\n",
        "    # generator.add(layers.LeakyReLU())\n",
        "\n",
        "    generator.add(tf.layers.Conv2DTranspose(filters=512, kernel_size=25, strides=4, padding='same', use_bias=False))\n",
        "    assert generator.output_shape == (None, 64, 512)\n",
        "    generator.add(tf.layers.BatchNormalization())\n",
        "    generator.add(tf.layers.LeakyReLU())\n",
        "\n",
        "    generator.add(tf.layers.Conv2DTranspose(filters=256, kernel_size=25, strides=4, padding='same', use_bias=False))\n",
        "    assert generator.output_shape == (None, 256, 256)\n",
        "    generator.add(tf.layers.BatchNormalization())\n",
        "    generator.add(tf.layers.LeakyReLU())\n",
        "\n",
        "    generator.add(tf.layers.Conv2DTranspose(filters=128, kernel_size=25, strides=4, padding='same', use_bias=False))\n",
        "    assert generator.output_shape == (None, 1024, 128)\n",
        "    generator.add(tf.layers.BatchNormalization())\n",
        "    generator.add(tf.layers.LeakyReLU())\n",
        "\n",
        "    generator.add(tf.layers.Conv2DTranspose(filters=64, kernel_size=25, strides=4, padding='same', use_bias=False))\n",
        "    assert generator.output_shape == (None, 4096, 4)\n",
        "    generator.add(tf.layers.BatchNormalization())\n",
        "    generator.add(tf.layers.LeakyReLU())\n",
        "\n",
        "    generator.add(tf.layers.Conv1DTranspose(filters=32, kernel_size=25, strides=4, padding='same', use_bias=False))\n",
        "    assert generator.output_shape == (None, 16, 16, 64)\n",
        "    generator.add(tf.layers.BatchNormalization())\n",
        "    generator.add(tf.layers.LeakyReLU())\n",
        "\n",
        "    generator.add(tf.layers.Conv2DTranspose(filters=16, kernel_size=25, strides=4, padding='same', use_bias=False, activation='tanh'))\n",
        "    assert generator.output_shape == (None, 16384, 1)\n",
        "    \n",
        "    return generator"
      ],
      "execution_count": null,
      "outputs": []
    },
    {
      "cell_type": "code",
      "metadata": {
        "id": "oIoBVyK2ZJUJ"
      },
      "source": [
        "def discriminator():\n",
        "    discriminator = tf.keras.models.Sequential()\n",
        "\n",
        "    discriminator.add(tf.layers.Conv2D(filters=64, kernel_size=25, strides=4, padding='same', input_shape=[16384, 1]))\n",
        "    discriminator.add(tf.layers.LeakyReLU())\n",
        "    discriminator.add(tf.layers.Dropout(0.3))\n",
        "\n",
        "    discriminator.add(tf.layers.Conv2D(filters=128, kernel_size=25, strides=4, padding='same'))\n",
        "    discriminator.add(tf.layers.LeakyReLU())\n",
        "    discriminator.add(tf.layers.Dropout(0.3))\n",
        "\n",
        "    discriminator.add(tf.layers.Conv2D(filters=256, kernel_size=25, strides=4, padding='same'))\n",
        "    discriminator.add(tf.layers.LeakyReLU())\n",
        "    discriminator.add(tf.layers.Dropout(0.3))\n",
        "\n",
        "    discriminator.add(tf.layers.Conv2D(filters=512, kernel_size=25, strides=4, padding='same'))\n",
        "    discriminator.add(tf.layers.LeakyReLU())\n",
        "    discriminator.add(tf.layers.Dropout(0.3))\n",
        "\n",
        "    discriminator.add(tf.layers.Conv2D(filters=1024, kernel_size=25, strides=4, padding='same'))\n",
        "    discriminator.add(tf.layers.LeakyReLU())\n",
        "    discriminator.add(tf.layers.Dropout(0.3))\n",
        "\n",
        "\n",
        "    discriminator.add(tf.layers.Flatten())\n",
        "\n",
        "    discriminator.add(tf.layers.Dense(1))"
      ],
      "execution_count": null,
      "outputs": []
    },
    {
      "cell_type": "code",
      "metadata": {
        "id": "OsFH8b7IHwa8"
      },
      "source": [
        "loss = tf.keras.losses.BinaryCrossentropy(from_logits=True)"
      ],
      "execution_count": null,
      "outputs": []
    },
    {
      "cell_type": "code",
      "metadata": {
        "id": "hfI_HWLSnbgK"
      },
      "source": [
        "def generator_loss(fake):\n",
        "    return loss(tf.ones_like(fake), fake)"
      ],
      "execution_count": null,
      "outputs": []
    },
    {
      "cell_type": "code",
      "metadata": {
        "id": "U-keh1u_no5R"
      },
      "source": [
        "def discriminator_loss(real, fake):\n",
        "    real_loss = loss(tf.ones_like(real), real)\n",
        "    fake_loss = loss(tf.zeros_like(fake), fake)\n",
        "    return real_loss + fake_loss"
      ],
      "execution_count": null,
      "outputs": []
    },
    {
      "cell_type": "code",
      "metadata": {
        "id": "m0S8HUJSHa5r"
      },
      "source": [
        "generator_optimizer = tf.keras.optimizers.Adam(1e-4)\n",
        "discriminator_optimizer = tf.keras.optimizers.Adam(1e-4)"
      ],
      "execution_count": null,
      "outputs": []
    },
    {
      "cell_type": "code",
      "metadata": {
        "id": "e1L0LIbXnrWY"
      },
      "source": [
        "@tf.function\n",
        "def train_step(sound):\n",
        "    noise = tf.random.normal([BATCH_SIZE, noise_dim])\n",
        "    \n",
        "    with tf.GradientTape() as gen_tape, tf.GradientTape() as disc_tape:\n",
        "        generated = generator(noise, training=True)\n",
        "        \n",
        "        real = discriminator(sound, training=True)\n",
        "        fake = discriminator(generated, training=True)\n",
        "        \n",
        "        gen_loss = generator_loss(fake)\n",
        "        disc_loss = discriminator_loss(real, fake)\n",
        "        \n",
        "    generator_gradients = gen_tape.gradient(gen_loss, generator.trainable_variables)\n",
        "    discriminator_gradients = disc_tape.gradient(disc_loss, discriminator.trainable_variables)\n",
        "    \n",
        "    generator_optimizer.apply_gradients(zip(generator_gradients, generator.trainable_variables))\n",
        "    discriminator_optimizer.apply_gradients(zip(discriminator_gradients, discriminator.trainable_variables))"
      ],
      "execution_count": null,
      "outputs": []
    }
  ]
}